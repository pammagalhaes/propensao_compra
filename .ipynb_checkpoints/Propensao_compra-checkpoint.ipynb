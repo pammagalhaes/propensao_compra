{
 "cells": [
  {
   "cell_type": "markdown",
   "id": "4eef2cd3",
   "metadata": {},
   "source": [
    "# 0.0 Imports"
   ]
  },
  {
   "cell_type": "code",
   "execution_count": 141,
   "id": "32c3c18d",
   "metadata": {
    "ExecuteTime": {
     "end_time": "2023-06-18T14:22:28.056324Z",
     "start_time": "2023-06-18T14:22:27.996405Z"
    }
   },
   "outputs": [],
   "source": [
    "import math\n",
    "import numpy as np\n",
    "import pandas as pd\n",
    "import random\n",
    "import json\n",
    "import pickle\n",
    "import warnings\n",
    "import inflection\n",
    "import seaborn as sns\n",
    "import xgboost as xgb\n",
    "import datetime as dt\n",
    "import requests\n",
    "\n",
    "\n",
    "from scipy import stats\n",
    "#from boruta import BorutaPy\n",
    "from matplotlib import pyplot as plt\n",
    "from IPython.display import Image\n",
    "from IPython.core.display import HTML\n",
    "\n",
    "from sklearn.metrics import mean_absolute_error, mean_squared_error\n",
    "from sklearn.ensemble import RandomForestRegressor\n",
    "from sklearn.linear_model import LinearRegression, Lasso\n",
    "from sklearn.preprocessing import RobustScaler, MinMaxScaler, LabelEncoder\n",
    "\n",
    "\n",
    "\n",
    "warnings.filterwarnings( 'ignore' )\n"
   ]
  },
  {
   "cell_type": "markdown",
   "id": "336d5c50",
   "metadata": {},
   "source": [
    "# 0.2 Load Data"
   ]
  },
  {
   "cell_type": "code",
   "execution_count": 142,
   "id": "6b607298",
   "metadata": {
    "ExecuteTime": {
     "end_time": "2023-06-18T14:22:30.045611Z",
     "start_time": "2023-06-18T14:22:29.451520Z"
    }
   },
   "outputs": [],
   "source": [
    "df_raw = pd.read_csv('C:/Users/Pamela.magalhaes/Documents/Estudos/pa004/train.csv', low_memory=False)"
   ]
  },
  {
   "cell_type": "code",
   "execution_count": 143,
   "id": "7e0a9de7",
   "metadata": {
    "ExecuteTime": {
     "end_time": "2023-06-18T14:22:30.110693Z",
     "start_time": "2023-06-18T14:22:30.062610Z"
    }
   },
   "outputs": [
    {
     "data": {
      "text/html": [
       "<div>\n",
       "<style scoped>\n",
       "    .dataframe tbody tr th:only-of-type {\n",
       "        vertical-align: middle;\n",
       "    }\n",
       "\n",
       "    .dataframe tbody tr th {\n",
       "        vertical-align: top;\n",
       "    }\n",
       "\n",
       "    .dataframe thead th {\n",
       "        text-align: right;\n",
       "    }\n",
       "</style>\n",
       "<table border=\"1\" class=\"dataframe\">\n",
       "  <thead>\n",
       "    <tr style=\"text-align: right;\">\n",
       "      <th></th>\n",
       "      <th>id</th>\n",
       "      <th>Gender</th>\n",
       "      <th>Age</th>\n",
       "      <th>Driving_License</th>\n",
       "      <th>Region_Code</th>\n",
       "      <th>Previously_Insured</th>\n",
       "      <th>Vehicle_Age</th>\n",
       "      <th>Vehicle_Damage</th>\n",
       "      <th>Annual_Premium</th>\n",
       "      <th>Policy_Sales_Channel</th>\n",
       "      <th>Vintage</th>\n",
       "      <th>Response</th>\n",
       "    </tr>\n",
       "  </thead>\n",
       "  <tbody>\n",
       "    <tr>\n",
       "      <th>0</th>\n",
       "      <td>1</td>\n",
       "      <td>Male</td>\n",
       "      <td>44</td>\n",
       "      <td>1</td>\n",
       "      <td>28.0</td>\n",
       "      <td>0</td>\n",
       "      <td>&gt; 2 Years</td>\n",
       "      <td>Yes</td>\n",
       "      <td>40454.0</td>\n",
       "      <td>26.0</td>\n",
       "      <td>217</td>\n",
       "      <td>1</td>\n",
       "    </tr>\n",
       "    <tr>\n",
       "      <th>1</th>\n",
       "      <td>2</td>\n",
       "      <td>Male</td>\n",
       "      <td>76</td>\n",
       "      <td>1</td>\n",
       "      <td>3.0</td>\n",
       "      <td>0</td>\n",
       "      <td>1-2 Year</td>\n",
       "      <td>No</td>\n",
       "      <td>33536.0</td>\n",
       "      <td>26.0</td>\n",
       "      <td>183</td>\n",
       "      <td>0</td>\n",
       "    </tr>\n",
       "    <tr>\n",
       "      <th>2</th>\n",
       "      <td>3</td>\n",
       "      <td>Male</td>\n",
       "      <td>47</td>\n",
       "      <td>1</td>\n",
       "      <td>28.0</td>\n",
       "      <td>0</td>\n",
       "      <td>&gt; 2 Years</td>\n",
       "      <td>Yes</td>\n",
       "      <td>38294.0</td>\n",
       "      <td>26.0</td>\n",
       "      <td>27</td>\n",
       "      <td>1</td>\n",
       "    </tr>\n",
       "    <tr>\n",
       "      <th>3</th>\n",
       "      <td>4</td>\n",
       "      <td>Male</td>\n",
       "      <td>21</td>\n",
       "      <td>1</td>\n",
       "      <td>11.0</td>\n",
       "      <td>1</td>\n",
       "      <td>&lt; 1 Year</td>\n",
       "      <td>No</td>\n",
       "      <td>28619.0</td>\n",
       "      <td>152.0</td>\n",
       "      <td>203</td>\n",
       "      <td>0</td>\n",
       "    </tr>\n",
       "    <tr>\n",
       "      <th>4</th>\n",
       "      <td>5</td>\n",
       "      <td>Female</td>\n",
       "      <td>29</td>\n",
       "      <td>1</td>\n",
       "      <td>41.0</td>\n",
       "      <td>1</td>\n",
       "      <td>&lt; 1 Year</td>\n",
       "      <td>No</td>\n",
       "      <td>27496.0</td>\n",
       "      <td>152.0</td>\n",
       "      <td>39</td>\n",
       "      <td>0</td>\n",
       "    </tr>\n",
       "  </tbody>\n",
       "</table>\n",
       "</div>"
      ],
      "text/plain": [
       "   id  Gender  Age  Driving_License  Region_Code  Previously_Insured  \\\n",
       "0   1    Male   44                1         28.0                   0   \n",
       "1   2    Male   76                1          3.0                   0   \n",
       "2   3    Male   47                1         28.0                   0   \n",
       "3   4    Male   21                1         11.0                   1   \n",
       "4   5  Female   29                1         41.0                   1   \n",
       "\n",
       "  Vehicle_Age Vehicle_Damage  Annual_Premium  Policy_Sales_Channel  Vintage  \\\n",
       "0   > 2 Years            Yes         40454.0                  26.0      217   \n",
       "1    1-2 Year             No         33536.0                  26.0      183   \n",
       "2   > 2 Years            Yes         38294.0                  26.0       27   \n",
       "3    < 1 Year             No         28619.0                 152.0      203   \n",
       "4    < 1 Year             No         27496.0                 152.0       39   \n",
       "\n",
       "   Response  \n",
       "0         1  \n",
       "1         0  \n",
       "2         1  \n",
       "3         0  \n",
       "4         0  "
      ]
     },
     "execution_count": 143,
     "metadata": {},
     "output_type": "execute_result"
    }
   ],
   "source": [
    "df_raw.head()"
   ]
  },
  {
   "cell_type": "markdown",
   "id": "fae944f3",
   "metadata": {},
   "source": [
    "# 1.0. DESCRICAO DOS DADOS"
   ]
  },
  {
   "cell_type": "code",
   "execution_count": 144,
   "id": "e1fe6398",
   "metadata": {
    "ExecuteTime": {
     "end_time": "2023-06-18T14:22:31.463703Z",
     "start_time": "2023-06-18T14:22:31.448423Z"
    }
   },
   "outputs": [
    {
     "data": {
      "text/plain": [
       "Index(['id', 'Gender', 'Age', 'Driving_License', 'Region_Code',\n",
       "       'Previously_Insured', 'Vehicle_Age', 'Vehicle_Damage', 'Annual_Premium',\n",
       "       'Policy_Sales_Channel', 'Vintage', 'Response'],\n",
       "      dtype='object')"
      ]
     },
     "execution_count": 144,
     "metadata": {},
     "output_type": "execute_result"
    }
   ],
   "source": [
    "df_raw.columns"
   ]
  },
  {
   "cell_type": "code",
   "execution_count": 145,
   "id": "3befb448",
   "metadata": {
    "ExecuteTime": {
     "end_time": "2023-06-18T14:22:32.065499Z",
     "start_time": "2023-06-18T14:22:32.008366Z"
    },
    "scrolled": true
   },
   "outputs": [
    {
     "data": {
      "text/html": [
       "<div>\n",
       "<style scoped>\n",
       "    .dataframe tbody tr th:only-of-type {\n",
       "        vertical-align: middle;\n",
       "    }\n",
       "\n",
       "    .dataframe tbody tr th {\n",
       "        vertical-align: top;\n",
       "    }\n",
       "\n",
       "    .dataframe thead th {\n",
       "        text-align: right;\n",
       "    }\n",
       "</style>\n",
       "<table border=\"1\" class=\"dataframe\">\n",
       "  <thead>\n",
       "    <tr style=\"text-align: right;\">\n",
       "      <th></th>\n",
       "      <th>id</th>\n",
       "      <th>Gender</th>\n",
       "      <th>Age</th>\n",
       "      <th>Driving_License</th>\n",
       "      <th>Region_Code</th>\n",
       "      <th>Previously_Insured</th>\n",
       "      <th>Vehicle_Age</th>\n",
       "      <th>Vehicle_Damage</th>\n",
       "      <th>Annual_Premium</th>\n",
       "      <th>Policy_Sales_Channel</th>\n",
       "      <th>Vintage</th>\n",
       "      <th>Response</th>\n",
       "    </tr>\n",
       "  </thead>\n",
       "  <tbody>\n",
       "    <tr>\n",
       "      <th>161925</th>\n",
       "      <td>161926</td>\n",
       "      <td>Female</td>\n",
       "      <td>26</td>\n",
       "      <td>1</td>\n",
       "      <td>28.0</td>\n",
       "      <td>0</td>\n",
       "      <td>&lt; 1 Year</td>\n",
       "      <td>Yes</td>\n",
       "      <td>40481.0</td>\n",
       "      <td>152.0</td>\n",
       "      <td>119</td>\n",
       "      <td>0</td>\n",
       "    </tr>\n",
       "  </tbody>\n",
       "</table>\n",
       "</div>"
      ],
      "text/plain": [
       "            id  Gender  Age  Driving_License  Region_Code  Previously_Insured  \\\n",
       "161925  161926  Female   26                1         28.0                   0   \n",
       "\n",
       "       Vehicle_Age Vehicle_Damage  Annual_Premium  Policy_Sales_Channel  \\\n",
       "161925    < 1 Year            Yes         40481.0                 152.0   \n",
       "\n",
       "        Vintage  Response  \n",
       "161925      119         0  "
      ]
     },
     "execution_count": 145,
     "metadata": {},
     "output_type": "execute_result"
    }
   ],
   "source": [
    "df_raw.sample()"
   ]
  },
  {
   "cell_type": "code",
   "execution_count": 146,
   "id": "92585f1a",
   "metadata": {
    "ExecuteTime": {
     "end_time": "2023-06-18T14:22:32.580726Z",
     "start_time": "2023-06-18T14:22:32.542307Z"
    }
   },
   "outputs": [],
   "source": [
    "df1 = df_raw.copy()"
   ]
  },
  {
   "cell_type": "code",
   "execution_count": 147,
   "id": "72ce4dff",
   "metadata": {
    "ExecuteTime": {
     "end_time": "2023-06-18T14:22:33.083848Z",
     "start_time": "2023-06-18T14:22:33.063345Z"
    }
   },
   "outputs": [],
   "source": [
    "cols_old = ['id', 'Gender', 'Age', 'Driving_License', 'Region_Code',\n",
    "       'Previously_Insured', 'Vehicle_Age', 'Vehicle_Damage', 'Annual_Premium',\n",
    "       'Policy_Sales_Channel', 'Vintage', 'Response']\n",
    "\n",
    "snakecase = lambda x: inflection.underscore (x)\n",
    "\n",
    "cols_new = list(map(snakecase, cols_old))\n",
    "\n",
    "# Rename\n",
    "df1.columns = cols_new"
   ]
  },
  {
   "cell_type": "code",
   "execution_count": 148,
   "id": "711208da",
   "metadata": {
    "ExecuteTime": {
     "end_time": "2023-06-18T14:22:33.605431Z",
     "start_time": "2023-06-18T14:22:33.593490Z"
    }
   },
   "outputs": [
    {
     "data": {
      "text/plain": [
       "Index(['id', 'gender', 'age', 'driving_license', 'region_code',\n",
       "       'previously_insured', 'vehicle_age', 'vehicle_damage', 'annual_premium',\n",
       "       'policy_sales_channel', 'vintage', 'response'],\n",
       "      dtype='object')"
      ]
     },
     "execution_count": 148,
     "metadata": {},
     "output_type": "execute_result"
    }
   ],
   "source": [
    "df1.columns"
   ]
  },
  {
   "cell_type": "code",
   "execution_count": 149,
   "id": "6d1ac287",
   "metadata": {
    "ExecuteTime": {
     "end_time": "2023-06-18T14:22:34.090622Z",
     "start_time": "2023-06-18T14:22:34.062973Z"
    }
   },
   "outputs": [
    {
     "data": {
      "text/plain": [
       "0    > 2 Years\n",
       "1     1-2 Year\n",
       "3     < 1 Year\n",
       "Name: vehicle_age, dtype: object"
      ]
     },
     "execution_count": 149,
     "metadata": {},
     "output_type": "execute_result"
    }
   ],
   "source": [
    "df1['vehicle_age'].drop_duplicates()"
   ]
  },
  {
   "cell_type": "markdown",
   "id": "a7f52f2c",
   "metadata": {},
   "source": [
    "## 1.2. Data Dimensions"
   ]
  },
  {
   "cell_type": "code",
   "execution_count": 150,
   "id": "9bf29912",
   "metadata": {
    "ExecuteTime": {
     "end_time": "2023-06-18T14:22:35.035667Z",
     "start_time": "2023-06-18T14:22:35.025294Z"
    }
   },
   "outputs": [
    {
     "data": {
      "text/plain": [
       "(381109, 12)"
      ]
     },
     "execution_count": 150,
     "metadata": {},
     "output_type": "execute_result"
    }
   ],
   "source": [
    "df1.shape"
   ]
  },
  {
   "cell_type": "markdown",
   "id": "f5c7f8d7",
   "metadata": {},
   "source": [
    "## 1.3. Data types"
   ]
  },
  {
   "cell_type": "code",
   "execution_count": 151,
   "id": "427915bb",
   "metadata": {
    "ExecuteTime": {
     "end_time": "2023-06-18T14:22:35.982625Z",
     "start_time": "2023-06-18T14:22:35.961481Z"
    }
   },
   "outputs": [
    {
     "data": {
      "text/plain": [
       "id                        int64\n",
       "gender                   object\n",
       "age                       int64\n",
       "driving_license           int64\n",
       "region_code             float64\n",
       "previously_insured        int64\n",
       "vehicle_age              object\n",
       "vehicle_damage           object\n",
       "annual_premium          float64\n",
       "policy_sales_channel    float64\n",
       "vintage                   int64\n",
       "response                  int64\n",
       "dtype: object"
      ]
     },
     "execution_count": 151,
     "metadata": {},
     "output_type": "execute_result"
    }
   ],
   "source": [
    "df1.dtypes"
   ]
  },
  {
   "cell_type": "markdown",
   "id": "44b92edb",
   "metadata": {},
   "source": [
    "## 1.4. Check NA's"
   ]
  },
  {
   "cell_type": "code",
   "execution_count": 152,
   "id": "271ba40d",
   "metadata": {
    "ExecuteTime": {
     "end_time": "2023-06-18T14:22:37.123880Z",
     "start_time": "2023-06-18T14:22:36.923147Z"
    }
   },
   "outputs": [
    {
     "data": {
      "text/plain": [
       "id                      0\n",
       "gender                  0\n",
       "age                     0\n",
       "driving_license         0\n",
       "region_code             0\n",
       "previously_insured      0\n",
       "vehicle_age             0\n",
       "vehicle_damage          0\n",
       "annual_premium          0\n",
       "policy_sales_channel    0\n",
       "vintage                 0\n",
       "response                0\n",
       "dtype: int64"
      ]
     },
     "execution_count": 152,
     "metadata": {},
     "output_type": "execute_result"
    }
   ],
   "source": [
    "df1.isna().sum()"
   ]
  },
  {
   "cell_type": "markdown",
   "id": "0b2c243c",
   "metadata": {
    "ExecuteTime": {
     "end_time": "2023-06-15T13:10:47.499332Z",
     "start_time": "2023-06-15T13:10:47.482380Z"
    }
   },
   "source": [
    "## 1.5. Changes"
   ]
  },
  {
   "cell_type": "code",
   "execution_count": 153,
   "id": "0518a35e",
   "metadata": {
    "ExecuteTime": {
     "end_time": "2023-06-18T14:22:38.215201Z",
     "start_time": "2023-06-18T14:22:38.141651Z"
    }
   },
   "outputs": [],
   "source": [
    "#vehicle_age\n",
    "\n",
    "age_map = {'< 1 Year': 0, '1-2 Year': 1, '> 2 Years': 2}\n",
    "\n",
    "df1['vehicle_age'] = df1['vehicle_age'].map(age_map)\n",
    "\n",
    "\n"
   ]
  },
  {
   "cell_type": "code",
   "execution_count": 154,
   "id": "12b7352a",
   "metadata": {
    "ExecuteTime": {
     "end_time": "2023-06-18T14:22:39.176172Z",
     "start_time": "2023-06-18T14:22:39.114354Z"
    }
   },
   "outputs": [
    {
     "data": {
      "text/html": [
       "<div>\n",
       "<style scoped>\n",
       "    .dataframe tbody tr th:only-of-type {\n",
       "        vertical-align: middle;\n",
       "    }\n",
       "\n",
       "    .dataframe tbody tr th {\n",
       "        vertical-align: top;\n",
       "    }\n",
       "\n",
       "    .dataframe thead th {\n",
       "        text-align: right;\n",
       "    }\n",
       "</style>\n",
       "<table border=\"1\" class=\"dataframe\">\n",
       "  <thead>\n",
       "    <tr style=\"text-align: right;\">\n",
       "      <th></th>\n",
       "      <th>321072</th>\n",
       "      <th>75180</th>\n",
       "      <th>353654</th>\n",
       "      <th>4556</th>\n",
       "      <th>198382</th>\n",
       "    </tr>\n",
       "  </thead>\n",
       "  <tbody>\n",
       "    <tr>\n",
       "      <th>id</th>\n",
       "      <td>321073</td>\n",
       "      <td>75181</td>\n",
       "      <td>353655</td>\n",
       "      <td>4557</td>\n",
       "      <td>198383</td>\n",
       "    </tr>\n",
       "    <tr>\n",
       "      <th>gender</th>\n",
       "      <td>Male</td>\n",
       "      <td>Female</td>\n",
       "      <td>Female</td>\n",
       "      <td>Female</td>\n",
       "      <td>Male</td>\n",
       "    </tr>\n",
       "    <tr>\n",
       "      <th>age</th>\n",
       "      <td>63</td>\n",
       "      <td>25</td>\n",
       "      <td>24</td>\n",
       "      <td>73</td>\n",
       "      <td>46</td>\n",
       "    </tr>\n",
       "    <tr>\n",
       "      <th>driving_license</th>\n",
       "      <td>1</td>\n",
       "      <td>1</td>\n",
       "      <td>1</td>\n",
       "      <td>1</td>\n",
       "      <td>1</td>\n",
       "    </tr>\n",
       "    <tr>\n",
       "      <th>region_code</th>\n",
       "      <td>8.0</td>\n",
       "      <td>9.0</td>\n",
       "      <td>37.0</td>\n",
       "      <td>28.0</td>\n",
       "      <td>28.0</td>\n",
       "    </tr>\n",
       "    <tr>\n",
       "      <th>previously_insured</th>\n",
       "      <td>1</td>\n",
       "      <td>1</td>\n",
       "      <td>1</td>\n",
       "      <td>0</td>\n",
       "      <td>0</td>\n",
       "    </tr>\n",
       "    <tr>\n",
       "      <th>vehicle_age</th>\n",
       "      <td>1</td>\n",
       "      <td>0</td>\n",
       "      <td>0</td>\n",
       "      <td>1</td>\n",
       "      <td>1</td>\n",
       "    </tr>\n",
       "    <tr>\n",
       "      <th>vehicle_damage</th>\n",
       "      <td>No</td>\n",
       "      <td>No</td>\n",
       "      <td>No</td>\n",
       "      <td>Yes</td>\n",
       "      <td>Yes</td>\n",
       "    </tr>\n",
       "    <tr>\n",
       "      <th>annual_premium</th>\n",
       "      <td>21940.0</td>\n",
       "      <td>38430.0</td>\n",
       "      <td>19950.0</td>\n",
       "      <td>59231.0</td>\n",
       "      <td>43921.0</td>\n",
       "    </tr>\n",
       "    <tr>\n",
       "      <th>policy_sales_channel</th>\n",
       "      <td>26.0</td>\n",
       "      <td>152.0</td>\n",
       "      <td>152.0</td>\n",
       "      <td>26.0</td>\n",
       "      <td>122.0</td>\n",
       "    </tr>\n",
       "    <tr>\n",
       "      <th>vintage</th>\n",
       "      <td>240</td>\n",
       "      <td>110</td>\n",
       "      <td>144</td>\n",
       "      <td>66</td>\n",
       "      <td>50</td>\n",
       "    </tr>\n",
       "    <tr>\n",
       "      <th>response</th>\n",
       "      <td>0</td>\n",
       "      <td>0</td>\n",
       "      <td>0</td>\n",
       "      <td>0</td>\n",
       "      <td>0</td>\n",
       "    </tr>\n",
       "  </tbody>\n",
       "</table>\n",
       "</div>"
      ],
      "text/plain": [
       "                       321072   75180    353654   4556     198382\n",
       "id                     321073    75181   353655     4557   198383\n",
       "gender                   Male   Female   Female   Female     Male\n",
       "age                        63       25       24       73       46\n",
       "driving_license             1        1        1        1        1\n",
       "region_code               8.0      9.0     37.0     28.0     28.0\n",
       "previously_insured          1        1        1        0        0\n",
       "vehicle_age                 1        0        0        1        1\n",
       "vehicle_damage             No       No       No      Yes      Yes\n",
       "annual_premium        21940.0  38430.0  19950.0  59231.0  43921.0\n",
       "policy_sales_channel     26.0    152.0    152.0     26.0    122.0\n",
       "vintage                   240      110      144       66       50\n",
       "response                    0        0        0        0        0"
      ]
     },
     "execution_count": 154,
     "metadata": {},
     "output_type": "execute_result"
    }
   ],
   "source": [
    "df1.sample(5).T"
   ]
  },
  {
   "cell_type": "markdown",
   "id": "186b37ad",
   "metadata": {},
   "source": [
    "## 1.6. Change Types"
   ]
  },
  {
   "cell_type": "code",
   "execution_count": 155,
   "id": "f0f46174",
   "metadata": {
    "ExecuteTime": {
     "end_time": "2023-06-18T14:22:42.427921Z",
     "start_time": "2023-06-18T14:22:42.415525Z"
    }
   },
   "outputs": [
    {
     "data": {
      "text/plain": [
       "id                        int64\n",
       "gender                   object\n",
       "age                       int64\n",
       "driving_license           int64\n",
       "region_code             float64\n",
       "previously_insured        int64\n",
       "vehicle_age               int64\n",
       "vehicle_damage           object\n",
       "annual_premium          float64\n",
       "policy_sales_channel    float64\n",
       "vintage                   int64\n",
       "response                  int64\n",
       "dtype: object"
      ]
     },
     "execution_count": 155,
     "metadata": {},
     "output_type": "execute_result"
    }
   ],
   "source": [
    "df1.dtypes"
   ]
  },
  {
   "cell_type": "code",
   "execution_count": 156,
   "id": "80bc5d8e",
   "metadata": {
    "ExecuteTime": {
     "end_time": "2023-06-18T14:22:43.825432Z",
     "start_time": "2023-06-18T14:22:43.793177Z"
    }
   },
   "outputs": [],
   "source": [
    "# Convertendo de float para int\n",
    "df1['region_code'] = df1['region_code'].astype(int)\n",
    "df1['annual_premium'] = df1['annual_premium'].astype(int)\n",
    "df1['policy_sales_channel'] = df1['policy_sales_channel'].astype(int)\n"
   ]
  },
  {
   "cell_type": "code",
   "execution_count": 157,
   "id": "15a1d5c5",
   "metadata": {
    "ExecuteTime": {
     "end_time": "2023-06-18T14:22:44.787484Z",
     "start_time": "2023-06-18T14:22:44.768675Z"
    }
   },
   "outputs": [
    {
     "data": {
      "text/plain": [
       "id                       int64\n",
       "gender                  object\n",
       "age                      int64\n",
       "driving_license          int64\n",
       "region_code              int32\n",
       "previously_insured       int64\n",
       "vehicle_age              int64\n",
       "vehicle_damage          object\n",
       "annual_premium           int32\n",
       "policy_sales_channel     int32\n",
       "vintage                  int64\n",
       "response                 int64\n",
       "dtype: object"
      ]
     },
     "execution_count": 157,
     "metadata": {},
     "output_type": "execute_result"
    }
   ],
   "source": [
    "#Verificando correcoes\n",
    "df1.dtypes"
   ]
  },
  {
   "cell_type": "markdown",
   "id": "e18bea86",
   "metadata": {},
   "source": [
    "## 1.7. Descriptive Statistical"
   ]
  },
  {
   "cell_type": "code",
   "execution_count": 158,
   "id": "8e81f00e",
   "metadata": {
    "ExecuteTime": {
     "end_time": "2023-06-18T14:22:48.535651Z",
     "start_time": "2023-06-18T14:22:48.481990Z"
    }
   },
   "outputs": [],
   "source": [
    "num_attributes = df1.select_dtypes (include = ['int64','int32'])\n",
    "cat_attributes = df1.select_dtypes (exclude = ['int64','int32'])"
   ]
  },
  {
   "cell_type": "code",
   "execution_count": 159,
   "id": "a9eb4f89",
   "metadata": {
    "ExecuteTime": {
     "end_time": "2023-06-18T14:22:49.700388Z",
     "start_time": "2023-06-18T14:22:49.634163Z"
    }
   },
   "outputs": [
    {
     "data": {
      "text/html": [
       "<div>\n",
       "<style scoped>\n",
       "    .dataframe tbody tr th:only-of-type {\n",
       "        vertical-align: middle;\n",
       "    }\n",
       "\n",
       "    .dataframe tbody tr th {\n",
       "        vertical-align: top;\n",
       "    }\n",
       "\n",
       "    .dataframe thead th {\n",
       "        text-align: right;\n",
       "    }\n",
       "</style>\n",
       "<table border=\"1\" class=\"dataframe\">\n",
       "  <thead>\n",
       "    <tr style=\"text-align: right;\">\n",
       "      <th></th>\n",
       "      <th>id</th>\n",
       "      <th>age</th>\n",
       "      <th>driving_license</th>\n",
       "      <th>region_code</th>\n",
       "      <th>previously_insured</th>\n",
       "      <th>vehicle_age</th>\n",
       "      <th>annual_premium</th>\n",
       "      <th>policy_sales_channel</th>\n",
       "      <th>vintage</th>\n",
       "      <th>response</th>\n",
       "    </tr>\n",
       "  </thead>\n",
       "  <tbody>\n",
       "    <tr>\n",
       "      <th>351893</th>\n",
       "      <td>351894</td>\n",
       "      <td>39</td>\n",
       "      <td>1</td>\n",
       "      <td>41</td>\n",
       "      <td>1</td>\n",
       "      <td>1</td>\n",
       "      <td>2630</td>\n",
       "      <td>26</td>\n",
       "      <td>43</td>\n",
       "      <td>0</td>\n",
       "    </tr>\n",
       "    <tr>\n",
       "      <th>336564</th>\n",
       "      <td>336565</td>\n",
       "      <td>22</td>\n",
       "      <td>1</td>\n",
       "      <td>28</td>\n",
       "      <td>1</td>\n",
       "      <td>0</td>\n",
       "      <td>55838</td>\n",
       "      <td>26</td>\n",
       "      <td>104</td>\n",
       "      <td>0</td>\n",
       "    </tr>\n",
       "  </tbody>\n",
       "</table>\n",
       "</div>"
      ],
      "text/plain": [
       "            id  age  driving_license  region_code  previously_insured  \\\n",
       "351893  351894   39                1           41                   1   \n",
       "336564  336565   22                1           28                   1   \n",
       "\n",
       "        vehicle_age  annual_premium  policy_sales_channel  vintage  response  \n",
       "351893            1            2630                    26       43         0  \n",
       "336564            0           55838                    26      104         0  "
      ]
     },
     "execution_count": 159,
     "metadata": {},
     "output_type": "execute_result"
    }
   ],
   "source": [
    "#Verificando\n",
    "num_attributes.sample(2)"
   ]
  },
  {
   "cell_type": "code",
   "execution_count": 160,
   "id": "b4466719",
   "metadata": {
    "ExecuteTime": {
     "end_time": "2023-06-18T14:22:50.330367Z",
     "start_time": "2023-06-18T14:22:50.287014Z"
    }
   },
   "outputs": [
    {
     "data": {
      "text/html": [
       "<div>\n",
       "<style scoped>\n",
       "    .dataframe tbody tr th:only-of-type {\n",
       "        vertical-align: middle;\n",
       "    }\n",
       "\n",
       "    .dataframe tbody tr th {\n",
       "        vertical-align: top;\n",
       "    }\n",
       "\n",
       "    .dataframe thead th {\n",
       "        text-align: right;\n",
       "    }\n",
       "</style>\n",
       "<table border=\"1\" class=\"dataframe\">\n",
       "  <thead>\n",
       "    <tr style=\"text-align: right;\">\n",
       "      <th></th>\n",
       "      <th>gender</th>\n",
       "      <th>vehicle_damage</th>\n",
       "    </tr>\n",
       "  </thead>\n",
       "  <tbody>\n",
       "    <tr>\n",
       "      <th>356204</th>\n",
       "      <td>Male</td>\n",
       "      <td>No</td>\n",
       "    </tr>\n",
       "    <tr>\n",
       "      <th>119840</th>\n",
       "      <td>Female</td>\n",
       "      <td>No</td>\n",
       "    </tr>\n",
       "  </tbody>\n",
       "</table>\n",
       "</div>"
      ],
      "text/plain": [
       "        gender vehicle_damage\n",
       "356204    Male             No\n",
       "119840  Female             No"
      ]
     },
     "execution_count": 160,
     "metadata": {},
     "output_type": "execute_result"
    }
   ],
   "source": [
    "#Verificando\n",
    "cat_attributes.sample(2)"
   ]
  },
  {
   "cell_type": "markdown",
   "id": "1d0aa933",
   "metadata": {},
   "source": [
    "### 1.7.1 Numerical Attributes"
   ]
  },
  {
   "cell_type": "code",
   "execution_count": 161,
   "id": "c6fb7f71",
   "metadata": {
    "ExecuteTime": {
     "end_time": "2023-06-18T14:22:54.416156Z",
     "start_time": "2023-06-18T14:22:53.503733Z"
    }
   },
   "outputs": [
    {
     "data": {
      "text/html": [
       "<div>\n",
       "<style scoped>\n",
       "    .dataframe tbody tr th:only-of-type {\n",
       "        vertical-align: middle;\n",
       "    }\n",
       "\n",
       "    .dataframe tbody tr th {\n",
       "        vertical-align: top;\n",
       "    }\n",
       "\n",
       "    .dataframe thead th {\n",
       "        text-align: right;\n",
       "    }\n",
       "</style>\n",
       "<table border=\"1\" class=\"dataframe\">\n",
       "  <thead>\n",
       "    <tr style=\"text-align: right;\">\n",
       "      <th></th>\n",
       "      <th>attributes</th>\n",
       "      <th>min</th>\n",
       "      <th>max</th>\n",
       "      <th>range</th>\n",
       "      <th>mean</th>\n",
       "      <th>median</th>\n",
       "      <th>std</th>\n",
       "      <th>skew</th>\n",
       "      <th>kurtosis</th>\n",
       "    </tr>\n",
       "  </thead>\n",
       "  <tbody>\n",
       "    <tr>\n",
       "      <th>0</th>\n",
       "      <td>id</td>\n",
       "      <td>1.0</td>\n",
       "      <td>381109.0</td>\n",
       "      <td>381108.0</td>\n",
       "      <td>190555.000000</td>\n",
       "      <td>190555.0</td>\n",
       "      <td>110016.691870</td>\n",
       "      <td>9.443274e-16</td>\n",
       "      <td>-1.200000</td>\n",
       "    </tr>\n",
       "    <tr>\n",
       "      <th>1</th>\n",
       "      <td>age</td>\n",
       "      <td>20.0</td>\n",
       "      <td>85.0</td>\n",
       "      <td>65.0</td>\n",
       "      <td>38.822584</td>\n",
       "      <td>36.0</td>\n",
       "      <td>15.511591</td>\n",
       "      <td>6.725390e-01</td>\n",
       "      <td>-0.565655</td>\n",
       "    </tr>\n",
       "    <tr>\n",
       "      <th>2</th>\n",
       "      <td>driving_license</td>\n",
       "      <td>0.0</td>\n",
       "      <td>1.0</td>\n",
       "      <td>1.0</td>\n",
       "      <td>0.997869</td>\n",
       "      <td>1.0</td>\n",
       "      <td>0.046109</td>\n",
       "      <td>-2.159518e+01</td>\n",
       "      <td>464.354302</td>\n",
       "    </tr>\n",
       "    <tr>\n",
       "      <th>3</th>\n",
       "      <td>region_code</td>\n",
       "      <td>0.0</td>\n",
       "      <td>52.0</td>\n",
       "      <td>52.0</td>\n",
       "      <td>26.388807</td>\n",
       "      <td>28.0</td>\n",
       "      <td>13.229871</td>\n",
       "      <td>-1.152664e-01</td>\n",
       "      <td>-0.867857</td>\n",
       "    </tr>\n",
       "    <tr>\n",
       "      <th>4</th>\n",
       "      <td>previously_insured</td>\n",
       "      <td>0.0</td>\n",
       "      <td>1.0</td>\n",
       "      <td>1.0</td>\n",
       "      <td>0.458210</td>\n",
       "      <td>0.0</td>\n",
       "      <td>0.498251</td>\n",
       "      <td>1.677471e-01</td>\n",
       "      <td>-1.971871</td>\n",
       "    </tr>\n",
       "    <tr>\n",
       "      <th>5</th>\n",
       "      <td>vehicle_age</td>\n",
       "      <td>0.0</td>\n",
       "      <td>2.0</td>\n",
       "      <td>2.0</td>\n",
       "      <td>0.609616</td>\n",
       "      <td>1.0</td>\n",
       "      <td>0.567439</td>\n",
       "      <td>2.528959e-01</td>\n",
       "      <td>-0.792253</td>\n",
       "    </tr>\n",
       "    <tr>\n",
       "      <th>6</th>\n",
       "      <td>annual_premium</td>\n",
       "      <td>2630.0</td>\n",
       "      <td>540165.0</td>\n",
       "      <td>537535.0</td>\n",
       "      <td>30564.389581</td>\n",
       "      <td>31669.0</td>\n",
       "      <td>17213.132474</td>\n",
       "      <td>1.766087e+00</td>\n",
       "      <td>34.004569</td>\n",
       "    </tr>\n",
       "    <tr>\n",
       "      <th>7</th>\n",
       "      <td>policy_sales_channel</td>\n",
       "      <td>1.0</td>\n",
       "      <td>163.0</td>\n",
       "      <td>162.0</td>\n",
       "      <td>112.034295</td>\n",
       "      <td>133.0</td>\n",
       "      <td>54.203924</td>\n",
       "      <td>-9.000081e-01</td>\n",
       "      <td>-0.970810</td>\n",
       "    </tr>\n",
       "    <tr>\n",
       "      <th>8</th>\n",
       "      <td>vintage</td>\n",
       "      <td>10.0</td>\n",
       "      <td>299.0</td>\n",
       "      <td>289.0</td>\n",
       "      <td>154.347397</td>\n",
       "      <td>154.0</td>\n",
       "      <td>83.671194</td>\n",
       "      <td>3.029517e-03</td>\n",
       "      <td>-1.200688</td>\n",
       "    </tr>\n",
       "    <tr>\n",
       "      <th>9</th>\n",
       "      <td>response</td>\n",
       "      <td>0.0</td>\n",
       "      <td>1.0</td>\n",
       "      <td>1.0</td>\n",
       "      <td>0.122563</td>\n",
       "      <td>0.0</td>\n",
       "      <td>0.327935</td>\n",
       "      <td>2.301906e+00</td>\n",
       "      <td>3.298788</td>\n",
       "    </tr>\n",
       "  </tbody>\n",
       "</table>\n",
       "</div>"
      ],
      "text/plain": [
       "             attributes     min       max     range           mean    median  \\\n",
       "0                    id     1.0  381109.0  381108.0  190555.000000  190555.0   \n",
       "1                   age    20.0      85.0      65.0      38.822584      36.0   \n",
       "2       driving_license     0.0       1.0       1.0       0.997869       1.0   \n",
       "3           region_code     0.0      52.0      52.0      26.388807      28.0   \n",
       "4    previously_insured     0.0       1.0       1.0       0.458210       0.0   \n",
       "5           vehicle_age     0.0       2.0       2.0       0.609616       1.0   \n",
       "6        annual_premium  2630.0  540165.0  537535.0   30564.389581   31669.0   \n",
       "7  policy_sales_channel     1.0     163.0     162.0     112.034295     133.0   \n",
       "8               vintage    10.0     299.0     289.0     154.347397     154.0   \n",
       "9              response     0.0       1.0       1.0       0.122563       0.0   \n",
       "\n",
       "             std          skew    kurtosis  \n",
       "0  110016.691870  9.443274e-16   -1.200000  \n",
       "1      15.511591  6.725390e-01   -0.565655  \n",
       "2       0.046109 -2.159518e+01  464.354302  \n",
       "3      13.229871 -1.152664e-01   -0.867857  \n",
       "4       0.498251  1.677471e-01   -1.971871  \n",
       "5       0.567439  2.528959e-01   -0.792253  \n",
       "6   17213.132474  1.766087e+00   34.004569  \n",
       "7      54.203924 -9.000081e-01   -0.970810  \n",
       "8      83.671194  3.029517e-03   -1.200688  \n",
       "9       0.327935  2.301906e+00    3.298788  "
      ]
     },
     "execution_count": 161,
     "metadata": {},
     "output_type": "execute_result"
    }
   ],
   "source": [
    "#Central Tendency - Mean and Median\n",
    "ct1 = pd.DataFrame (num_attributes.apply(np.mean)).T\n",
    "ct2 = pd.DataFrame (num_attributes.apply(np.median)).T\n",
    "\n",
    "# Dispersion - std, min, max, range, skew and kurtosis\n",
    "d1 = pd.DataFrame (num_attributes.apply(np.std)).T\n",
    "d2 = pd.DataFrame (num_attributes.apply(min)).T\n",
    "d3 = pd.DataFrame (num_attributes.apply(max)).T\n",
    "d4 = pd.DataFrame (num_attributes.apply (lambda x: x.max() - x.min())).T\n",
    "d5 = pd.DataFrame (num_attributes.apply (lambda x: x.skew () )).T\n",
    "d6 = pd.DataFrame (num_attributes.apply (lambda x: x.kurtosis () )).T\n",
    "\n",
    "#Concatenate\n",
    "m = pd.concat([d2,d3,d4,ct1,ct2,d1,d5,d6]).T.reset_index()\n",
    "m.columns = ['attributes','min','max','range','mean','median','std','skew','kurtosis']\n",
    "m"
   ]
  },
  {
   "cell_type": "code",
   "execution_count": 84,
   "id": "9d24da22",
   "metadata": {
    "ExecuteTime": {
     "end_time": "2023-06-16T13:07:12.087307Z",
     "start_time": "2023-06-16T13:07:06.534708Z"
    }
   },
   "outputs": [
    {
     "data": {
      "text/plain": [
       "<Axes: xlabel='annual_premium', ylabel='Density'>"
      ]
     },
     "execution_count": 84,
     "metadata": {},
     "output_type": "execute_result"
    },
    {
     "data": {
      "image/png": "[encoded data removed]",
      "text/plain": [
       "<Figure size 640x480 with 1 Axes>"
      ]
     },
     "metadata": {},
     "output_type": "display_data"
    }
   ],
   "source": [
    "sns.distplot (df1['annual_premium'])"
   ]
  },
  {
   "cell_type": "code",
   "execution_count": 85,
   "id": "22f0f1ee",
   "metadata": {
    "ExecuteTime": {
     "end_time": "2023-06-16T13:07:17.473582Z",
     "start_time": "2023-06-16T13:07:12.092044Z"
    }
   },
   "outputs": [
    {
     "data": {
      "text/plain": [
       "<Axes: xlabel='driving_license', ylabel='Density'>"
      ]
     },
     "execution_count": 85,
     "metadata": {},
     "output_type": "execute_result"
    },
    {
     "data": {
      "image/png": "[encoded data removed]",
      "text/plain": [
       "<Figure size 640x480 with 1 Axes>"
      ]
     },
     "metadata": {},
     "output_type": "display_data"
    }
   ],
   "source": [
    "sns.distplot (df1['driving_license'])"
   ]
  },
  {
   "cell_type": "markdown",
   "id": "eeeec659",
   "metadata": {},
   "source": [
    "### 1.7.2 Categorical Attributes"
   ]
  },
  {
   "cell_type": "code",
   "execution_count": 162,
   "id": "031ade51",
   "metadata": {
    "ExecuteTime": {
     "end_time": "2023-06-18T14:23:00.061792Z",
     "start_time": "2023-06-18T14:22:59.983815Z"
    }
   },
   "outputs": [
    {
     "data": {
      "text/plain": [
       "gender            2\n",
       "vehicle_damage    2\n",
       "dtype: int64"
      ]
     },
     "execution_count": 162,
     "metadata": {},
     "output_type": "execute_result"
    }
   ],
   "source": [
    "cat_attributes.apply (lambda x: x.unique().shape[0])"
   ]
  },
  {
   "cell_type": "code",
   "execution_count": 87,
   "id": "664ce9f9",
   "metadata": {
    "ExecuteTime": {
     "end_time": "2023-06-16T13:07:18.403866Z",
     "start_time": "2023-06-16T13:07:17.543448Z"
    }
   },
   "outputs": [
    {
     "data": {
      "text/plain": [
       "<Axes: xlabel='vehicle_damage', ylabel='previously_insured'>"
      ]
     },
     "execution_count": 87,
     "metadata": {},
     "output_type": "execute_result"
    },
    {
     "data": {
      "image/png": "[encoded data removed]",
      "text/plain": [
       "<Figure size 640x480 with 2 Axes>"
      ]
     },
     "metadata": {},
     "output_type": "display_data"
    }
   ],
   "source": [
    "plt.subplot(1,3,1)\n",
    "sns.boxplot (x='gender', y='previously_insured',data=df1)\n",
    "\n",
    "plt.subplot(1,3,2)\n",
    "sns.boxplot (x='vehicle_damage', y='previously_insured',data=df1)\n"
   ]
  },
  {
   "cell_type": "markdown",
   "id": "051022d6",
   "metadata": {},
   "source": [
    "# 2.0. FEATURE ENGENEERING"
   ]
  },
  {
   "cell_type": "code",
   "execution_count": 165,
   "id": "f2e55448",
   "metadata": {
    "ExecuteTime": {
     "end_time": "2023-06-18T14:23:38.243419Z",
     "start_time": "2023-06-18T14:23:38.202769Z"
    }
   },
   "outputs": [],
   "source": [
    "df2 = df1.copy ()"
   ]
  },
  {
   "cell_type": "markdown",
   "id": "aee753a0",
   "metadata": {},
   "source": [
    "## 2.1 Mapa mental de hipóteses"
   ]
  },
  {
   "cell_type": "code",
   "execution_count": 90,
   "id": "d3f05d8b",
   "metadata": {
    "ExecuteTime": {
     "end_time": "2023-06-16T14:34:05.700809Z",
     "start_time": "2023-06-16T14:34:05.616363Z"
    }
   },
   "outputs": [
    {
     "data": {
      "image/png": "[encoded data removed]",
      "text/plain": [
       "<IPython.core.display.Image object>"
      ]
     },
     "execution_count": 90,
     "metadata": {},
     "output_type": "execute_result"
    }
   ],
   "source": [
    "Image ('C:/Users/Pamela.magalhaes/Documents/Estudos/pa004/mapa_hipoteses_pa004.png')"
   ]
  },
  {
   "cell_type": "markdown",
   "id": "4c05180e",
   "metadata": {},
   "source": [
    "## 2.2 Criação das hipóteses"
   ]
  },
  {
   "cell_type": "markdown",
   "id": "a9d00863",
   "metadata": {},
   "source": [
    "#### 2.2.1 Hipóteses Clientes"
   ]
  },
  {
   "cell_type": "markdown",
   "id": "af91eb1b",
   "metadata": {
    "ExecuteTime": {
     "end_time": "2023-06-17T13:28:14.431349Z",
     "start_time": "2023-06-17T13:28:14.417350Z"
    }
   },
   "source": [
    "**1.** Clientes com carteira de motorista deveriam aderir mais ao seguro de carro.\n",
    "\n",
    "**2.** Clientes com mais idade deveriam aderir mais ao seguro de carro.\n",
    "\n",
    "**3.** Clientes do gênero feminino deveriam aderir mais ao seguro de carro.\n",
    "\n",
    "**4.** Clientes com salário maior deveriam aderir mais ao seguro de carro.\n",
    "\n",
    "**5.** Clientes com menos filhos deveriam aderir mais ao seguro de carro.\n",
    "\n",
    "**6.** Clientes que são clientes há mais tempo deveriam aderir mais ao seguro de carro."
   ]
  },
  {
   "cell_type": "markdown",
   "id": "fa6abda0",
   "metadata": {},
   "source": [
    "#### 2.2.2 Hipóteses Veículos"
   ]
  },
  {
   "cell_type": "markdown",
   "id": "25212c15",
   "metadata": {},
   "source": [
    "**1.** Clientes que possuem carro que teve dano no passado deveriam aderir mais ao seguro de carro.\n",
    "\n",
    "**2.** Clientes que possuem carros mais novos deveriam aderir mais ao seguro de carro.\n",
    "\n",
    "**3.** Clientes que já possuem seguro de automóvel deveriam aderir renovar o seguro."
   ]
  },
  {
   "cell_type": "markdown",
   "id": "a65351cd",
   "metadata": {},
   "source": [
    "#### 2.2.3 Seguro Saúde"
   ]
  },
  {
   "cell_type": "markdown",
   "id": "832e5016",
   "metadata": {},
   "source": [
    "**1.** Clientes que pagam prêmios maiores deveriam aderir mais ao seguro de carro."
   ]
  },
  {
   "cell_type": "markdown",
   "id": "2d44513f",
   "metadata": {},
   "source": [
    "### 2.3 Lista Final das hipóteses (Hipóteses que temos dados para comprovar)"
   ]
  },
  {
   "cell_type": "markdown",
   "id": "e3918970",
   "metadata": {},
   "source": [
    "**1.** Clientes com carteira de motorista deveriam aderir mais ao seguro de carro.\n",
    "\n",
    "**2.** Clientes com mais idade deveriam aderir mais ao seguro de carro.\n",
    "\n",
    "**3.** Clientes do gênero feminino deveriam aderir mais ao seguro de carro.\n",
    "\n",
    "**4.** Clientes que são clientes há mais tempo deveriam aderir mais ao seguro de carro.\n",
    "\n",
    "**5.** Clientes que possuem carro que teve dano no passado deveriam aderir mais ao seguro de carro.\n",
    "\n",
    "**6.** Clientes que possuem carros mais novos deveriam aderir mais ao seguro de carro.\n",
    "\n",
    "**7.** Clientes que já possuem seguro de automóvel deveriam aderir renovar o seguro.\n",
    "\n",
    "**8.** Clientes que pagam prêmios maiores deveriam aderir mais ao seguro de carro."
   ]
  },
  {
   "cell_type": "markdown",
   "id": "5797b51d",
   "metadata": {},
   "source": [
    "### 2.4 Feature Engineering"
   ]
  },
  {
   "cell_type": "code",
   "execution_count": 166,
   "id": "01f852f0",
   "metadata": {
    "ExecuteTime": {
     "end_time": "2023-06-18T14:23:42.799601Z",
     "start_time": "2023-06-18T14:23:42.123922Z"
    }
   },
   "outputs": [],
   "source": [
    "#Age\n",
    "\n",
    "df2['age'] = df2['age'].apply(lambda x: 'jovem' if x >= 20 else 'adulto' if 35 <= x <= 60 else 'idoso')\n",
    "\n",
    "#Gender\n",
    "df2['gender'] = df2['gender'].apply(lambda x: 0 if x == 'Female' else 1 if x == 'Male' else x)\n",
    "\n",
    "#Vintage (há quantos dias é cliente)\n",
    "df2 ['vintage'] = df2 ['vintage'].apply (lambda x: 'cliente_novo' if x <= 90  else 'cliente_antigo' if x >= 91  else x)\n",
    "\n",
    "#vehicle_damage\n",
    "df2['vehicle_damage'] = df2['vehicle_damage'].apply(lambda x: 0 if x == 'No' else 1 if x == 'Yes' else x)\n",
    "\n",
    "#vehicle_age\n",
    "df2['vehicle_age'] = df2['vehicle_age'].apply(lambda x: 'carro_zero' if x < 1  else 'semi_novo' if x >= 1  else x)\n",
    "\n",
    "#annual_premium\n",
    "df2 ['annual_premium'] = df2 ['annual_premium'].apply (lambda x: 'premio_baixo' if x < 10000  \n",
    "                                                                                else 'premio_medio' if 10000 >= x <= 30000\n",
    "                                                                                else 'premio_alto')\n",
    "\n"
   ]
  },
  {
   "cell_type": "code",
   "execution_count": 167,
   "id": "4a828367",
   "metadata": {
    "ExecuteTime": {
     "end_time": "2023-06-18T14:23:44.479571Z",
     "start_time": "2023-06-18T14:23:44.458845Z"
    }
   },
   "outputs": [
    {
     "data": {
      "text/html": [
       "<div>\n",
       "<style scoped>\n",
       "    .dataframe tbody tr th:only-of-type {\n",
       "        vertical-align: middle;\n",
       "    }\n",
       "\n",
       "    .dataframe tbody tr th {\n",
       "        vertical-align: top;\n",
       "    }\n",
       "\n",
       "    .dataframe thead th {\n",
       "        text-align: right;\n",
       "    }\n",
       "</style>\n",
       "<table border=\"1\" class=\"dataframe\">\n",
       "  <thead>\n",
       "    <tr style=\"text-align: right;\">\n",
       "      <th></th>\n",
       "      <th>0</th>\n",
       "      <th>1</th>\n",
       "      <th>2</th>\n",
       "      <th>3</th>\n",
       "      <th>4</th>\n",
       "    </tr>\n",
       "  </thead>\n",
       "  <tbody>\n",
       "    <tr>\n",
       "      <th>id</th>\n",
       "      <td>1</td>\n",
       "      <td>2</td>\n",
       "      <td>3</td>\n",
       "      <td>4</td>\n",
       "      <td>5</td>\n",
       "    </tr>\n",
       "    <tr>\n",
       "      <th>gender</th>\n",
       "      <td>1</td>\n",
       "      <td>1</td>\n",
       "      <td>1</td>\n",
       "      <td>1</td>\n",
       "      <td>0</td>\n",
       "    </tr>\n",
       "    <tr>\n",
       "      <th>age</th>\n",
       "      <td>jovem</td>\n",
       "      <td>jovem</td>\n",
       "      <td>jovem</td>\n",
       "      <td>jovem</td>\n",
       "      <td>jovem</td>\n",
       "    </tr>\n",
       "    <tr>\n",
       "      <th>driving_license</th>\n",
       "      <td>1</td>\n",
       "      <td>1</td>\n",
       "      <td>1</td>\n",
       "      <td>1</td>\n",
       "      <td>1</td>\n",
       "    </tr>\n",
       "    <tr>\n",
       "      <th>region_code</th>\n",
       "      <td>28</td>\n",
       "      <td>3</td>\n",
       "      <td>28</td>\n",
       "      <td>11</td>\n",
       "      <td>41</td>\n",
       "    </tr>\n",
       "    <tr>\n",
       "      <th>previously_insured</th>\n",
       "      <td>0</td>\n",
       "      <td>0</td>\n",
       "      <td>0</td>\n",
       "      <td>1</td>\n",
       "      <td>1</td>\n",
       "    </tr>\n",
       "    <tr>\n",
       "      <th>vehicle_age</th>\n",
       "      <td>semi_novo</td>\n",
       "      <td>semi_novo</td>\n",
       "      <td>semi_novo</td>\n",
       "      <td>carro_zero</td>\n",
       "      <td>carro_zero</td>\n",
       "    </tr>\n",
       "    <tr>\n",
       "      <th>vehicle_damage</th>\n",
       "      <td>1</td>\n",
       "      <td>0</td>\n",
       "      <td>1</td>\n",
       "      <td>0</td>\n",
       "      <td>0</td>\n",
       "    </tr>\n",
       "    <tr>\n",
       "      <th>annual_premium</th>\n",
       "      <td>premio_alto</td>\n",
       "      <td>premio_alto</td>\n",
       "      <td>premio_alto</td>\n",
       "      <td>premio_alto</td>\n",
       "      <td>premio_alto</td>\n",
       "    </tr>\n",
       "    <tr>\n",
       "      <th>policy_sales_channel</th>\n",
       "      <td>26</td>\n",
       "      <td>26</td>\n",
       "      <td>26</td>\n",
       "      <td>152</td>\n",
       "      <td>152</td>\n",
       "    </tr>\n",
       "    <tr>\n",
       "      <th>vintage</th>\n",
       "      <td>cliente_antigo</td>\n",
       "      <td>cliente_antigo</td>\n",
       "      <td>cliente_novo</td>\n",
       "      <td>cliente_antigo</td>\n",
       "      <td>cliente_novo</td>\n",
       "    </tr>\n",
       "    <tr>\n",
       "      <th>response</th>\n",
       "      <td>1</td>\n",
       "      <td>0</td>\n",
       "      <td>1</td>\n",
       "      <td>0</td>\n",
       "      <td>0</td>\n",
       "    </tr>\n",
       "  </tbody>\n",
       "</table>\n",
       "</div>"
      ],
      "text/plain": [
       "                                   0               1             2  \\\n",
       "id                                 1               2             3   \n",
       "gender                             1               1             1   \n",
       "age                            jovem           jovem         jovem   \n",
       "driving_license                    1               1             1   \n",
       "region_code                       28               3            28   \n",
       "previously_insured                 0               0             0   \n",
       "vehicle_age                semi_novo       semi_novo     semi_novo   \n",
       "vehicle_damage                     1               0             1   \n",
       "annual_premium           premio_alto     premio_alto   premio_alto   \n",
       "policy_sales_channel              26              26            26   \n",
       "vintage               cliente_antigo  cliente_antigo  cliente_novo   \n",
       "response                           1               0             1   \n",
       "\n",
       "                                   3             4  \n",
       "id                                 4             5  \n",
       "gender                             1             0  \n",
       "age                            jovem         jovem  \n",
       "driving_license                    1             1  \n",
       "region_code                       11            41  \n",
       "previously_insured                 1             1  \n",
       "vehicle_age               carro_zero    carro_zero  \n",
       "vehicle_damage                     0             0  \n",
       "annual_premium           premio_alto   premio_alto  \n",
       "policy_sales_channel             152           152  \n",
       "vintage               cliente_antigo  cliente_novo  \n",
       "response                           0             0  "
      ]
     },
     "execution_count": 167,
     "metadata": {},
     "output_type": "execute_result"
    }
   ],
   "source": [
    "#Verificando\n",
    "df2.head().T"
   ]
  },
  {
   "cell_type": "markdown",
   "id": "74cdf5d9",
   "metadata": {},
   "source": [
    "# 3.0. FILTRAGEM DE VARIAVEIS"
   ]
  },
  {
   "cell_type": "code",
   "execution_count": 168,
   "id": "a9ddba85",
   "metadata": {
    "ExecuteTime": {
     "end_time": "2023-06-18T14:24:37.497335Z",
     "start_time": "2023-06-18T14:24:37.423207Z"
    }
   },
   "outputs": [],
   "source": [
    "df3 = df2.copy()"
   ]
  },
  {
   "cell_type": "code",
   "execution_count": 169,
   "id": "133ccf92",
   "metadata": {
    "ExecuteTime": {
     "end_time": "2023-06-18T14:24:44.755762Z",
     "start_time": "2023-06-18T14:24:44.715617Z"
    }
   },
   "outputs": [
    {
     "data": {
      "text/html": [
       "<div>\n",
       "<style scoped>\n",
       "    .dataframe tbody tr th:only-of-type {\n",
       "        vertical-align: middle;\n",
       "    }\n",
       "\n",
       "    .dataframe tbody tr th {\n",
       "        vertical-align: top;\n",
       "    }\n",
       "\n",
       "    .dataframe thead th {\n",
       "        text-align: right;\n",
       "    }\n",
       "</style>\n",
       "<table border=\"1\" class=\"dataframe\">\n",
       "  <thead>\n",
       "    <tr style=\"text-align: right;\">\n",
       "      <th></th>\n",
       "      <th>id</th>\n",
       "      <th>gender</th>\n",
       "      <th>age</th>\n",
       "      <th>driving_license</th>\n",
       "      <th>region_code</th>\n",
       "      <th>previously_insured</th>\n",
       "      <th>vehicle_age</th>\n",
       "      <th>vehicle_damage</th>\n",
       "      <th>annual_premium</th>\n",
       "      <th>policy_sales_channel</th>\n",
       "      <th>vintage</th>\n",
       "      <th>response</th>\n",
       "    </tr>\n",
       "  </thead>\n",
       "  <tbody>\n",
       "    <tr>\n",
       "      <th>0</th>\n",
       "      <td>1</td>\n",
       "      <td>1</td>\n",
       "      <td>jovem</td>\n",
       "      <td>1</td>\n",
       "      <td>28</td>\n",
       "      <td>0</td>\n",
       "      <td>semi_novo</td>\n",
       "      <td>1</td>\n",
       "      <td>premio_alto</td>\n",
       "      <td>26</td>\n",
       "      <td>cliente_antigo</td>\n",
       "      <td>1</td>\n",
       "    </tr>\n",
       "    <tr>\n",
       "      <th>1</th>\n",
       "      <td>2</td>\n",
       "      <td>1</td>\n",
       "      <td>jovem</td>\n",
       "      <td>1</td>\n",
       "      <td>3</td>\n",
       "      <td>0</td>\n",
       "      <td>semi_novo</td>\n",
       "      <td>0</td>\n",
       "      <td>premio_alto</td>\n",
       "      <td>26</td>\n",
       "      <td>cliente_antigo</td>\n",
       "      <td>0</td>\n",
       "    </tr>\n",
       "    <tr>\n",
       "      <th>2</th>\n",
       "      <td>3</td>\n",
       "      <td>1</td>\n",
       "      <td>jovem</td>\n",
       "      <td>1</td>\n",
       "      <td>28</td>\n",
       "      <td>0</td>\n",
       "      <td>semi_novo</td>\n",
       "      <td>1</td>\n",
       "      <td>premio_alto</td>\n",
       "      <td>26</td>\n",
       "      <td>cliente_novo</td>\n",
       "      <td>1</td>\n",
       "    </tr>\n",
       "    <tr>\n",
       "      <th>3</th>\n",
       "      <td>4</td>\n",
       "      <td>1</td>\n",
       "      <td>jovem</td>\n",
       "      <td>1</td>\n",
       "      <td>11</td>\n",
       "      <td>1</td>\n",
       "      <td>carro_zero</td>\n",
       "      <td>0</td>\n",
       "      <td>premio_alto</td>\n",
       "      <td>152</td>\n",
       "      <td>cliente_antigo</td>\n",
       "      <td>0</td>\n",
       "    </tr>\n",
       "    <tr>\n",
       "      <th>4</th>\n",
       "      <td>5</td>\n",
       "      <td>0</td>\n",
       "      <td>jovem</td>\n",
       "      <td>1</td>\n",
       "      <td>41</td>\n",
       "      <td>1</td>\n",
       "      <td>carro_zero</td>\n",
       "      <td>0</td>\n",
       "      <td>premio_alto</td>\n",
       "      <td>152</td>\n",
       "      <td>cliente_novo</td>\n",
       "      <td>0</td>\n",
       "    </tr>\n",
       "  </tbody>\n",
       "</table>\n",
       "</div>"
      ],
      "text/plain": [
       "   id  gender    age  driving_license  region_code  previously_insured  \\\n",
       "0   1       1  jovem                1           28                   0   \n",
       "1   2       1  jovem                1            3                   0   \n",
       "2   3       1  jovem                1           28                   0   \n",
       "3   4       1  jovem                1           11                   1   \n",
       "4   5       0  jovem                1           41                   1   \n",
       "\n",
       "  vehicle_age  vehicle_damage annual_premium  policy_sales_channel  \\\n",
       "0   semi_novo               1    premio_alto                    26   \n",
       "1   semi_novo               0    premio_alto                    26   \n",
       "2   semi_novo               1    premio_alto                    26   \n",
       "3  carro_zero               0    premio_alto                   152   \n",
       "4  carro_zero               0    premio_alto                   152   \n",
       "\n",
       "          vintage  response  \n",
       "0  cliente_antigo         1  \n",
       "1  cliente_antigo         0  \n",
       "2    cliente_novo         1  \n",
       "3  cliente_antigo         0  \n",
       "4    cliente_novo         0  "
      ]
     },
     "execution_count": 169,
     "metadata": {},
     "output_type": "execute_result"
    }
   ],
   "source": [
    "df3.head()"
   ]
  },
  {
   "cell_type": "markdown",
   "id": "5003f549",
   "metadata": {},
   "source": [
    "## 3.1 Filtragem das linhas"
   ]
  },
  {
   "cell_type": "code",
   "execution_count": 170,
   "id": "42c06e0e",
   "metadata": {
    "ExecuteTime": {
     "end_time": "2023-06-18T14:29:30.684621Z",
     "start_time": "2023-06-18T14:29:30.622510Z"
    }
   },
   "outputs": [],
   "source": [
    "df3 = df3[(df3 ['driving_license'] == 1) & (df3['previously_insured'] == 0)]"
   ]
  },
  {
   "cell_type": "markdown",
   "id": "81405326",
   "metadata": {
    "ExecuteTime": {
     "end_time": "2023-06-18T14:30:12.211313Z",
     "start_time": "2023-06-18T14:30:12.204749Z"
    }
   },
   "source": [
    "## 3.2 Seleção das colunas"
   ]
  },
  {
   "cell_type": "code",
   "execution_count": 172,
   "id": "6cd77c5a",
   "metadata": {
    "ExecuteTime": {
     "end_time": "2023-06-18T14:35:44.185343Z",
     "start_time": "2023-06-18T14:35:44.170379Z"
    }
   },
   "outputs": [],
   "source": [
    "cols_drop = ['policy_sales_channel']"
   ]
  },
  {
   "cell_type": "code",
   "execution_count": 173,
   "id": "ff5ae560",
   "metadata": {
    "ExecuteTime": {
     "end_time": "2023-06-18T14:35:57.437119Z",
     "start_time": "2023-06-18T14:35:57.384986Z"
    }
   },
   "outputs": [],
   "source": [
    "df3 = df3.drop (cols_drop, axis=1)"
   ]
  },
  {
   "cell_type": "code",
   "execution_count": 174,
   "id": "98103a05",
   "metadata": {
    "ExecuteTime": {
     "end_time": "2023-06-18T14:36:11.770818Z",
     "start_time": "2023-06-18T14:36:11.756041Z"
    }
   },
   "outputs": [
    {
     "data": {
      "text/plain": [
       "Index(['id', 'gender', 'age', 'driving_license', 'region_code',\n",
       "       'previously_insured', 'vehicle_age', 'vehicle_damage', 'annual_premium',\n",
       "       'vintage', 'response'],\n",
       "      dtype='object')"
      ]
     },
     "execution_count": 174,
     "metadata": {},
     "output_type": "execute_result"
    }
   ],
   "source": [
    "#Verificando se as colunas foram excluidas\n",
    "df3.columns"
   ]
  },
  {
   "cell_type": "markdown",
   "id": "dd951719",
   "metadata": {},
   "source": [
    "# 4.0. EDA - ANALISE EXPLORATORIA DOS DADOS"
   ]
  },
  {
   "cell_type": "code",
   "execution_count": null,
   "id": "769850a7",
   "metadata": {},
   "outputs": [],
   "source": []
  }
 ],
 "metadata": {
  "hide_input": false,
  "kernelspec": {
   "display_name": "Python 3 (ipykernel)",
   "language": "python",
   "name": "python3"
  },
  "language_info": {
   "codemirror_mode": {
    "name": "ipython",
    "version": 3
   },
   "file_extension": ".py",
   "mimetype": "text/x-python",
   "name": "python",
   "nbconvert_exporter": "python",
   "pygments_lexer": "ipython3",
   "version": "3.9.16"
  }
 },
 "nbformat": 4,
 "nbformat_minor": 5
}
